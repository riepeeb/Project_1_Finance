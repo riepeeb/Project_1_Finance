{
 "cells": [
  {
   "cell_type": "code",
   "execution_count": 1,
   "id": "7ece0ce8",
   "metadata": {},
   "outputs": [],
   "source": [
    "#Setup\n",
    "import matplotlib.pyplot as plt\n",
    "import pandas as pd\n",
    "from pandas.plotting import table\n",
    "import numpy as np\n",
    "import time\n",
    "import datetime as dt\n",
    "import scipy.stats as st"
   ]
  },
  {
   "cell_type": "code",
   "execution_count": 2,
   "id": "59a4f697",
   "metadata": {},
   "outputs": [
    {
     "data": {
      "text/html": [
       "<div>\n",
       "<style scoped>\n",
       "    .dataframe tbody tr th:only-of-type {\n",
       "        vertical-align: middle;\n",
       "    }\n",
       "\n",
       "    .dataframe tbody tr th {\n",
       "        vertical-align: top;\n",
       "    }\n",
       "\n",
       "    .dataframe thead th {\n",
       "        text-align: right;\n",
       "    }\n",
       "</style>\n",
       "<table border=\"1\" class=\"dataframe\">\n",
       "  <thead>\n",
       "    <tr style=\"text-align: right;\">\n",
       "      <th></th>\n",
       "      <th>DATE</th>\n",
       "      <th>CXUHOUSINGLB0403M</th>\n",
       "    </tr>\n",
       "  </thead>\n",
       "  <tbody>\n",
       "    <tr>\n",
       "      <th>0</th>\n",
       "      <td>2016-01-01</td>\n",
       "      <td>18587</td>\n",
       "    </tr>\n",
       "    <tr>\n",
       "      <th>1</th>\n",
       "      <td>2017-01-01</td>\n",
       "      <td>19927</td>\n",
       "    </tr>\n",
       "    <tr>\n",
       "      <th>2</th>\n",
       "      <td>2018-01-01</td>\n",
       "      <td>19627</td>\n",
       "    </tr>\n",
       "    <tr>\n",
       "      <th>3</th>\n",
       "      <td>2019-01-01</td>\n",
       "      <td>20499</td>\n",
       "    </tr>\n",
       "    <tr>\n",
       "      <th>4</th>\n",
       "      <td>2020-01-01</td>\n",
       "      <td>21223</td>\n",
       "    </tr>\n",
       "    <tr>\n",
       "      <th>5</th>\n",
       "      <td>2021-01-01</td>\n",
       "      <td>22641</td>\n",
       "    </tr>\n",
       "  </tbody>\n",
       "</table>\n",
       "</div>"
      ],
      "text/plain": [
       "         DATE  CXUHOUSINGLB0403M\n",
       "0  2016-01-01              18587\n",
       "1  2017-01-01              19927\n",
       "2  2018-01-01              19627\n",
       "3  2019-01-01              20499\n",
       "4  2020-01-01              21223\n",
       "5  2021-01-01              22641"
      ]
     },
     "execution_count": 2,
     "metadata": {},
     "output_type": "execute_result"
    }
   ],
   "source": [
    "#setting up DataFrame\n",
    "value_index = \"../Resources/FRED Housing from Age 25-34.csv\"\n",
    "value = pd.read_csv(value_index)\n",
    "value_df = pd.DataFrame(value)\n",
    "value_df"
   ]
  },
  {
   "cell_type": "code",
   "execution_count": 3,
   "id": "2fce7608",
   "metadata": {},
   "outputs": [
    {
     "data": {
      "text/plain": [
       "DATE                 object\n",
       "CXUHOUSINGLB0403M     int64\n",
       "dtype: object"
      ]
     },
     "metadata": {},
     "output_type": "display_data"
    }
   ],
   "source": [
    "#Checking Data Types\n",
    "display(value_df.dtypes)"
   ]
  },
  {
   "cell_type": "code",
   "execution_count": 4,
   "id": "ac325bcc",
   "metadata": {},
   "outputs": [
    {
     "data": {
      "text/plain": [
       "DATE                 datetime64[ns]\n",
       "CXUHOUSINGLB0403M             int64\n",
       "dtype: object"
      ]
     },
     "metadata": {},
     "output_type": "display_data"
    }
   ],
   "source": [
    "#Changing the Date Column to Date-Time Data Type\n",
    "value_df['DATE'] = pd.to_datetime(value_df['DATE'])\n",
    "display(value_df.dtypes)"
   ]
  },
  {
   "cell_type": "code",
   "execution_count": 5,
   "id": "f9fc0be8",
   "metadata": {},
   "outputs": [
    {
     "data": {
      "text/html": [
       "<div>\n",
       "<style scoped>\n",
       "    .dataframe tbody tr th:only-of-type {\n",
       "        vertical-align: middle;\n",
       "    }\n",
       "\n",
       "    .dataframe tbody tr th {\n",
       "        vertical-align: top;\n",
       "    }\n",
       "\n",
       "    .dataframe thead th {\n",
       "        text-align: right;\n",
       "    }\n",
       "</style>\n",
       "<table border=\"1\" class=\"dataframe\">\n",
       "  <thead>\n",
       "    <tr style=\"text-align: right;\">\n",
       "      <th></th>\n",
       "      <th>DATE</th>\n",
       "      <th>CXUHOUSINGLB0403M</th>\n",
       "    </tr>\n",
       "  </thead>\n",
       "  <tbody>\n",
       "    <tr>\n",
       "      <th>1</th>\n",
       "      <td>2017-01-01</td>\n",
       "      <td>19927</td>\n",
       "    </tr>\n",
       "    <tr>\n",
       "      <th>2</th>\n",
       "      <td>2018-01-01</td>\n",
       "      <td>19627</td>\n",
       "    </tr>\n",
       "    <tr>\n",
       "      <th>3</th>\n",
       "      <td>2019-01-01</td>\n",
       "      <td>20499</td>\n",
       "    </tr>\n",
       "    <tr>\n",
       "      <th>4</th>\n",
       "      <td>2020-01-01</td>\n",
       "      <td>21223</td>\n",
       "    </tr>\n",
       "    <tr>\n",
       "      <th>5</th>\n",
       "      <td>2021-01-01</td>\n",
       "      <td>22641</td>\n",
       "    </tr>\n",
       "  </tbody>\n",
       "</table>\n",
       "</div>"
      ],
      "text/plain": [
       "        DATE  CXUHOUSINGLB0403M\n",
       "1 2017-01-01              19927\n",
       "2 2018-01-01              19627\n",
       "3 2019-01-01              20499\n",
       "4 2020-01-01              21223\n",
       "5 2021-01-01              22641"
      ]
     },
     "execution_count": 5,
     "metadata": {},
     "output_type": "execute_result"
    }
   ],
   "source": [
    "#dropping Data outside of parameters\n",
    "clean_df = value_df.drop([0])\n",
    "clean_df"
   ]
  },
  {
   "cell_type": "code",
   "execution_count": 6,
   "id": "6dfe58e7",
   "metadata": {},
   "outputs": [
    {
     "name": "stdout",
     "output_type": "stream",
     "text": [
      "The Average Home Value for ages 25-34 from our cleaned data is $20783.4\n",
      "The Median Home Vaue for ages 25-34 from our cleaned data is $20499.0\n",
      "The Lowest Home Value for 25-34 year olds in our dataset is $19627\n",
      "The Highest Home Value for 25-34 year olds in our dataset is $22641\n"
     ]
    }
   ],
   "source": [
    "#Getting Statistics\n",
    "home_value = clean_df['CXUHOUSINGLB0403M']\n",
    "mean_numpy = np.mean(home_value)\n",
    "print(f\"The Average Home Value for ages 25-34 from our cleaned data is ${mean_numpy}\")\n",
    "\n",
    "median_numpy = np.median(home_value)\n",
    "print(f\"The Median Home Vaue for ages 25-34 from our cleaned data is ${median_numpy}\")\n",
    "\n",
    "min_value = clean_df['CXUHOUSINGLB0403M'].min()\n",
    "print(f\"The Lowest Home Value for 25-34 year olds in our dataset is ${min_value}\")\n",
    "\n",
    "max_value = clean_df['CXUHOUSINGLB0403M'].max()\n",
    "print(f\"The Highest Home Value for 25-34 year olds in our dataset is ${max_value}\")"
   ]
  },
  {
   "cell_type": "code",
   "execution_count": 7,
   "id": "a58ca873",
   "metadata": {},
   "outputs": [
    {
     "data": {
      "text/html": [
       "<div>\n",
       "<style scoped>\n",
       "    .dataframe tbody tr th:only-of-type {\n",
       "        vertical-align: middle;\n",
       "    }\n",
       "\n",
       "    .dataframe tbody tr th {\n",
       "        vertical-align: top;\n",
       "    }\n",
       "\n",
       "    .dataframe thead th {\n",
       "        text-align: right;\n",
       "    }\n",
       "</style>\n",
       "<table border=\"1\" class=\"dataframe\">\n",
       "  <thead>\n",
       "    <tr style=\"text-align: right;\">\n",
       "      <th></th>\n",
       "      <th>Statistic</th>\n",
       "      <th>Homes Bought</th>\n",
       "    </tr>\n",
       "  </thead>\n",
       "  <tbody>\n",
       "    <tr>\n",
       "      <th>0</th>\n",
       "      <td>Mean</td>\n",
       "      <td>20783.4</td>\n",
       "    </tr>\n",
       "    <tr>\n",
       "      <th>1</th>\n",
       "      <td>Median</td>\n",
       "      <td>20499.0</td>\n",
       "    </tr>\n",
       "    <tr>\n",
       "      <th>2</th>\n",
       "      <td>Min</td>\n",
       "      <td>19627.0</td>\n",
       "    </tr>\n",
       "    <tr>\n",
       "      <th>3</th>\n",
       "      <td>Max</td>\n",
       "      <td>22641.0</td>\n",
       "    </tr>\n",
       "  </tbody>\n",
       "</table>\n",
       "</div>"
      ],
      "text/plain": [
       "  Statistic  Homes Bought\n",
       "0      Mean       20783.4\n",
       "1    Median       20499.0\n",
       "2       Min       19627.0\n",
       "3       Max       22641.0"
      ]
     },
     "execution_count": 7,
     "metadata": {},
     "output_type": "execute_result"
    }
   ],
   "source": [
    "#creating a DataFrame of our Statistics\n",
    "stats_df = pd.DataFrame(\n",
    "    {\"Statistic\" : [\"Mean\", \"Median\", \"Min\", \"Max\"],\n",
    "    \"Home Values\" : [mean_numpy, median_numpy, min_value, max_value]}\n",
    ")\n",
    "stats_df"
   ]
  },
  {
   "cell_type": "code",
   "execution_count": 10,
   "id": "ffbfd5eb",
   "metadata": {},
   "outputs": [
    {
     "data": {
      "image/png": "[encoded data removed]",
      "text/plain": [
       "<Figure size 432x288 with 1 Axes>"
      ]
     },
     "metadata": {
      "needs_background": "light"
     },
     "output_type": "display_data"
    }
   ],
   "source": [
    "#Plotting our Findings\n",
    "x = clean_df['DATE']\n",
    "y = clean_df['CXUHOUSINGLB0403M']\n",
    "\n",
    "plt.plot(x, y, marker='*', linewidth=1)\n",
    "\n",
    "plt.xticks(rotation = 45)\n",
    "plt.yticks(rotation = 45)\n",
    "\n",
    "#Formatting Scatter Plot\n",
    "plt.title(\"Home Values for Ages 25-34 vs Date\")\n",
    "plt.ylabel(\"Home Value ($)\")\n",
    "plt.xlabel(\"Date\")\n",
    "plt.grid()\n",
    "\n",
    "plt.savefig(\"../Images/HomeValuesvsDate.png\")\n",
    "plt.show()"
   ]
  },
  {
   "cell_type": "code",
   "execution_count": 11,
   "id": "c7df0e0b",
   "metadata": {
    "scrolled": true
   },
   "outputs": [
    {
     "data": {
      "text/plain": [
       "<function matplotlib.pyplot.show(close=None, block=None)>"
      ]
     },
     "execution_count": 11,
     "metadata": {},
     "output_type": "execute_result"
    },
    {
     "data": {
      "image/png": "[encoded data removed]",
      "text/plain": [
       "<Figure size 432x288 with 1 Axes>"
      ]
     },
     "metadata": {},
     "output_type": "display_data"
    }
   ],
   "source": [
    "#Looking at Data in as a Pie Chart\n",
    "plt.pie(clean_df['CXUHOUSINGLB0403M'], labels=clean_df['DATE'], autopct=\"%1.1f%%\", startangle=90)\n",
    "plt.title(\"Breakdown of Home Value by Year\")\n",
    "plt.savefig(\"../Images/BreakdownofHomeValue.png\")\n",
    "plt.show"
   ]
  }
 ],
 "metadata": {
  "kernelspec": {
   "display_name": "PythonData",
   "language": "python",
   "name": "pythondata"
  },
  "language_info": {
   "codemirror_mode": {
    "name": "ipython",
    "version": 3
   },
   "file_extension": ".py",
   "mimetype": "text/x-python",
   "name": "python",
   "nbconvert_exporter": "python",
   "pygments_lexer": "ipython3",
   "version": "3.9.12"
  }
 },
 "nbformat": 4,
 "nbformat_minor": 5
}
