{
 "cells": [
  {
   "cell_type": "code",
   "execution_count": 1,
   "id": "73152b92",
   "metadata": {},
   "outputs": [],
   "source": [
    "#Setup\n",
    "import matplotlib.pyplot as plt\n",
    "import pandas as pd\n",
    "import numpy as np\n",
    "import time\n",
    "import datetime\n",
    "import scipy.stats as st\n",
    "from scipy.stats import linregress"
   ]
  },
  {
   "cell_type": "code",
   "execution_count": 2,
   "id": "d6d77c30",
   "metadata": {},
   "outputs": [
    {
     "data": {
      "text/html": [
       "<div>\n",
       "<style scoped>\n",
       "    .dataframe tbody tr th:only-of-type {\n",
       "        vertical-align: middle;\n",
       "    }\n",
       "\n",
       "    .dataframe tbody tr th {\n",
       "        vertical-align: top;\n",
       "    }\n",
       "\n",
       "    .dataframe thead th {\n",
       "        text-align: right;\n",
       "    }\n",
       "</style>\n",
       "<table border=\"1\" class=\"dataframe\">\n",
       "  <thead>\n",
       "    <tr style=\"text-align: right;\">\n",
       "      <th></th>\n",
       "      <th>DATE</th>\n",
       "      <th>FEDFUNDS</th>\n",
       "    </tr>\n",
       "  </thead>\n",
       "  <tbody>\n",
       "    <tr>\n",
       "      <th>0</th>\n",
       "      <td>2017-09-01</td>\n",
       "      <td>1.15</td>\n",
       "    </tr>\n",
       "    <tr>\n",
       "      <th>1</th>\n",
       "      <td>2017-10-01</td>\n",
       "      <td>1.15</td>\n",
       "    </tr>\n",
       "    <tr>\n",
       "      <th>2</th>\n",
       "      <td>2017-11-01</td>\n",
       "      <td>1.16</td>\n",
       "    </tr>\n",
       "    <tr>\n",
       "      <th>3</th>\n",
       "      <td>2017-12-01</td>\n",
       "      <td>1.30</td>\n",
       "    </tr>\n",
       "    <tr>\n",
       "      <th>4</th>\n",
       "      <td>2018-01-01</td>\n",
       "      <td>1.41</td>\n",
       "    </tr>\n",
       "    <tr>\n",
       "      <th>...</th>\n",
       "      <td>...</td>\n",
       "      <td>...</td>\n",
       "    </tr>\n",
       "    <tr>\n",
       "      <th>56</th>\n",
       "      <td>2022-05-01</td>\n",
       "      <td>0.77</td>\n",
       "    </tr>\n",
       "    <tr>\n",
       "      <th>57</th>\n",
       "      <td>2022-06-01</td>\n",
       "      <td>1.21</td>\n",
       "    </tr>\n",
       "    <tr>\n",
       "      <th>58</th>\n",
       "      <td>2022-07-01</td>\n",
       "      <td>1.68</td>\n",
       "    </tr>\n",
       "    <tr>\n",
       "      <th>59</th>\n",
       "      <td>2022-08-01</td>\n",
       "      <td>2.33</td>\n",
       "    </tr>\n",
       "    <tr>\n",
       "      <th>60</th>\n",
       "      <td>2022-09-01</td>\n",
       "      <td>2.56</td>\n",
       "    </tr>\n",
       "  </tbody>\n",
       "</table>\n",
       "<p>61 rows × 2 columns</p>\n",
       "</div>"
      ],
      "text/plain": [
       "          DATE  FEDFUNDS\n",
       "0   2017-09-01      1.15\n",
       "1   2017-10-01      1.15\n",
       "2   2017-11-01      1.16\n",
       "3   2017-12-01      1.30\n",
       "4   2018-01-01      1.41\n",
       "..         ...       ...\n",
       "56  2022-05-01      0.77\n",
       "57  2022-06-01      1.21\n",
       "58  2022-07-01      1.68\n",
       "59  2022-08-01      2.33\n",
       "60  2022-09-01      2.56\n",
       "\n",
       "[61 rows x 2 columns]"
      ]
     },
     "execution_count": 2,
     "metadata": {},
     "output_type": "execute_result"
    }
   ],
   "source": [
    "#setting up DataFrame\n",
    "fed_funds_rate = \"../Resources/FEDFUNDS.csv\"\n",
    "ffr = pd.read_csv(fed_funds_rate)\n",
    "ffr_df = pd.DataFrame(ffr)\n",
    "ffr_df"
   ]
  },
  {
   "cell_type": "code",
   "execution_count": 4,
   "id": "36955d3b",
   "metadata": {},
   "outputs": [
    {
     "data": {
      "text/plain": [
       "DATE         object\n",
       "FEDFUNDS    float64\n",
       "dtype: object"
      ]
     },
     "metadata": {},
     "output_type": "display_data"
    }
   ],
   "source": [
    "#Checking Data Types\n",
    "display(ffr_df.dtypes)"
   ]
  },
  {
   "cell_type": "code",
   "execution_count": 5,
   "id": "ca2c6ee8",
   "metadata": {},
   "outputs": [
    {
     "data": {
      "text/plain": [
       "DATE        datetime64[ns]\n",
       "FEDFUNDS           float64\n",
       "dtype: object"
      ]
     },
     "metadata": {},
     "output_type": "display_data"
    }
   ],
   "source": [
    "#Changing the Date Column to Date-Time Data Type\n",
    "ffr_df['DATE'] = pd.to_datetime(ffr_df['DATE'])\n",
    "display(ffr_df.dtypes)"
   ]
  },
  {
   "cell_type": "code",
   "execution_count": 7,
   "id": "89f479a1",
   "metadata": {},
   "outputs": [
    {
     "name": "stdout",
     "output_type": "stream",
     "text": [
      "The Average FED Rate is 1.1040983606557377%\n",
      "The Median FED Rate is 1.21%\n",
      "The Lowest FED Rate in our dataset is 0.05%\n",
      "The Highest FED Rate in our dataset is 2.56%\n"
     ]
    }
   ],
   "source": [
    "#Getting Statistics\n",
    "rate = ffr_df['FEDFUNDS']\n",
    "mean_numpy = np.mean(rate)\n",
    "print(f\"The Average FED Rate is {mean_numpy}%\")\n",
    "\n",
    "median_numpy = np.median(rate)\n",
    "print(f\"The Median FED Rate is {median_numpy}%\")\n",
    "\n",
    "min_rate = ffr_df['FEDFUNDS'].min()\n",
    "print(f\"The Lowest FED Rate in our dataset is {min_rate}%\")\n",
    "\n",
    "max_rate = ffr_df['FEDFUNDS'].max()\n",
    "print(f\"The Highest FED Rate in our dataset is {max_rate}%\")"
   ]
  },
  {
   "cell_type": "code",
   "execution_count": 9,
   "id": "91da027d",
   "metadata": {},
   "outputs": [
    {
     "data": {
      "image/png": "[encoded data removed]",
      "text/plain": [
       "<Figure size 432x288 with 1 Axes>"
      ]
     },
     "metadata": {
      "needs_background": "light"
     },
     "output_type": "display_data"
    }
   ],
   "source": [
    "#Plotting the Fed Rate over Time\n",
    "x = ffr_df['DATE']\n",
    "y = ffr_df['FEDFUNDS']\n",
    "\n",
    "plt.plot(x, y, marker='o', linewidth=1)\n",
    "plt.xticks(rotation=90)\n",
    "plt.grid()\n",
    "plt.title(\"Federal Funds Rate over Time\")\n",
    "plt.xlabel(\"Date\")\n",
    "plt.ylabel(\"Federal Funds Rate (%)\")\n",
    "\n",
    "plt.savefig(\"../Images/FEDFUNDsvsDATE\")\n",
    "plt.show()"
   ]
  },
  {
   "cell_type": "code",
   "execution_count": null,
   "id": "816cc450",
   "metadata": {},
   "outputs": [],
   "source": []
  },
  {
   "cell_type": "code",
   "execution_count": null,
   "id": "4be12635",
   "metadata": {},
   "outputs": [],
   "source": []
  },
  {
   "cell_type": "code",
   "execution_count": null,
   "id": "9fbe7f14",
   "metadata": {},
   "outputs": [],
   "source": []
  }
 ],
 "metadata": {
  "kernelspec": {
   "display_name": "PythonData",
   "language": "python",
   "name": "pythondata"
  },
  "language_info": {
   "codemirror_mode": {
    "name": "ipython",
    "version": 3
   },
   "file_extension": ".py",
   "mimetype": "text/x-python",
   "name": "python",
   "nbconvert_exporter": "python",
   "pygments_lexer": "ipython3",
   "version": "3.9.12"
  }
 },
 "nbformat": 4,
 "nbformat_minor": 5
}
