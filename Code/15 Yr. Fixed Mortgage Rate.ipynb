{
 "cells": [
  {
   "cell_type": "code",
   "execution_count": 73,
   "id": "41c3f35a",
   "metadata": {},
   "outputs": [
    {
     "data": {
      "text/html": [
       "<div>\n",
       "<style scoped>\n",
       "    .dataframe tbody tr th:only-of-type {\n",
       "        vertical-align: middle;\n",
       "    }\n",
       "\n",
       "    .dataframe tbody tr th {\n",
       "        vertical-align: top;\n",
       "    }\n",
       "\n",
       "    .dataframe thead th {\n",
       "        text-align: right;\n",
       "    }\n",
       "</style>\n",
       "<table border=\"1\" class=\"dataframe\">\n",
       "  <thead>\n",
       "    <tr style=\"text-align: right;\">\n",
       "      <th></th>\n",
       "      <th>DATE</th>\n",
       "      <th>MORTGAGE15US</th>\n",
       "    </tr>\n",
       "  </thead>\n",
       "  <tbody>\n",
       "    <tr>\n",
       "      <th>0</th>\n",
       "      <td>11/2/2017</td>\n",
       "      <td>3.27</td>\n",
       "    </tr>\n",
       "    <tr>\n",
       "      <th>1</th>\n",
       "      <td>11/9/2017</td>\n",
       "      <td>3.24</td>\n",
       "    </tr>\n",
       "    <tr>\n",
       "      <th>2</th>\n",
       "      <td>11/16/2017</td>\n",
       "      <td>3.31</td>\n",
       "    </tr>\n",
       "    <tr>\n",
       "      <th>3</th>\n",
       "      <td>11/22/2017</td>\n",
       "      <td>3.32</td>\n",
       "    </tr>\n",
       "    <tr>\n",
       "      <th>4</th>\n",
       "      <td>11/30/2017</td>\n",
       "      <td>3.30</td>\n",
       "    </tr>\n",
       "    <tr>\n",
       "      <th>...</th>\n",
       "      <td>...</td>\n",
       "      <td>...</td>\n",
       "    </tr>\n",
       "    <tr>\n",
       "      <th>256</th>\n",
       "      <td>9/29/2022</td>\n",
       "      <td>5.96</td>\n",
       "    </tr>\n",
       "    <tr>\n",
       "      <th>257</th>\n",
       "      <td>10/6/2022</td>\n",
       "      <td>5.90</td>\n",
       "    </tr>\n",
       "    <tr>\n",
       "      <th>258</th>\n",
       "      <td>10/13/2022</td>\n",
       "      <td>6.09</td>\n",
       "    </tr>\n",
       "    <tr>\n",
       "      <th>259</th>\n",
       "      <td>10/20/2022</td>\n",
       "      <td>6.23</td>\n",
       "    </tr>\n",
       "    <tr>\n",
       "      <th>260</th>\n",
       "      <td>10/27/2022</td>\n",
       "      <td>6.36</td>\n",
       "    </tr>\n",
       "  </tbody>\n",
       "</table>\n",
       "<p>261 rows × 2 columns</p>\n",
       "</div>"
      ],
      "text/plain": [
       "           DATE  MORTGAGE15US\n",
       "0     11/2/2017          3.27\n",
       "1     11/9/2017          3.24\n",
       "2    11/16/2017          3.31\n",
       "3    11/22/2017          3.32\n",
       "4    11/30/2017          3.30\n",
       "..          ...           ...\n",
       "256   9/29/2022          5.96\n",
       "257   10/6/2022          5.90\n",
       "258  10/13/2022          6.09\n",
       "259  10/20/2022          6.23\n",
       "260  10/27/2022          6.36\n",
       "\n",
       "[261 rows x 2 columns]"
      ]
     },
     "execution_count": 73,
     "metadata": {},
     "output_type": "execute_result"
    }
   ],
   "source": [
    "import pandas as pd\n",
    "import numpy as np\n",
    "import matplotlib.pyplot as plt\n",
    "import scipy.stats as st\n",
    "\n",
    "fifteenyearfixed_path = \"../Resources/MORTGAGE15US.csv\"\n",
    "\n",
    "fifteenyear_df = pd.read_csv(fifteenyearfixed_path)\n",
    "\n",
    "fifteenyear_df"
   ]
  },
  {
   "cell_type": "code",
   "execution_count": 86,
   "id": "5ec4deed",
   "metadata": {},
   "outputs": [
    {
     "data": {
      "text/plain": [
       "DATE            261\n",
       "MORTGAGE15US    261\n",
       "dtype: int64"
      ]
     },
     "execution_count": 86,
     "metadata": {},
     "output_type": "execute_result"
    }
   ],
   "source": [
    "fifteenyear_df.count()"
   ]
  },
  {
   "cell_type": "code",
   "execution_count": 87,
   "id": "7bcdd771",
   "metadata": {},
   "outputs": [],
   "source": [
    "fifteenyear_df[\"DATE\"] = pd.to_datetime(df[\"DATE\"])"
   ]
  },
  {
   "cell_type": "code",
   "execution_count": 89,
   "id": "3ef1bf9a",
   "metadata": {},
   "outputs": [
    {
     "data": {
      "text/plain": [
       "DATE            datetime64[ns]\n",
       "MORTGAGE15US           float64\n",
       "dtype: object"
      ]
     },
     "metadata": {},
     "output_type": "display_data"
    }
   ],
   "source": [
    "display(fifteenyear_df.dtypes)"
   ]
  },
  {
   "cell_type": "code",
   "execution_count": 91,
   "id": "d0612365",
   "metadata": {},
   "outputs": [
    {
     "data": {
      "text/html": [
       "<div>\n",
       "<style scoped>\n",
       "    .dataframe tbody tr th:only-of-type {\n",
       "        vertical-align: middle;\n",
       "    }\n",
       "\n",
       "    .dataframe tbody tr th {\n",
       "        vertical-align: top;\n",
       "    }\n",
       "\n",
       "    .dataframe thead th {\n",
       "        text-align: right;\n",
       "    }\n",
       "</style>\n",
       "<table border=\"1\" class=\"dataframe\">\n",
       "  <thead>\n",
       "    <tr style=\"text-align: right;\">\n",
       "      <th></th>\n",
       "      <th>Date</th>\n",
       "      <th>15 Yr. Fixed Rate (%)</th>\n",
       "    </tr>\n",
       "  </thead>\n",
       "  <tbody>\n",
       "    <tr>\n",
       "      <th>0</th>\n",
       "      <td>2017-11-02</td>\n",
       "      <td>3.27</td>\n",
       "    </tr>\n",
       "    <tr>\n",
       "      <th>1</th>\n",
       "      <td>2017-11-09</td>\n",
       "      <td>3.24</td>\n",
       "    </tr>\n",
       "    <tr>\n",
       "      <th>2</th>\n",
       "      <td>2017-11-16</td>\n",
       "      <td>3.31</td>\n",
       "    </tr>\n",
       "    <tr>\n",
       "      <th>3</th>\n",
       "      <td>2017-11-22</td>\n",
       "      <td>3.32</td>\n",
       "    </tr>\n",
       "    <tr>\n",
       "      <th>4</th>\n",
       "      <td>2017-11-30</td>\n",
       "      <td>3.30</td>\n",
       "    </tr>\n",
       "  </tbody>\n",
       "</table>\n",
       "</div>"
      ],
      "text/plain": [
       "        Date  15 Yr. Fixed Rate (%)\n",
       "0 2017-11-02                   3.27\n",
       "1 2017-11-09                   3.24\n",
       "2 2017-11-16                   3.31\n",
       "3 2017-11-22                   3.32\n",
       "4 2017-11-30                   3.30"
      ]
     },
     "execution_count": 91,
     "metadata": {},
     "output_type": "execute_result"
    }
   ],
   "source": [
    "renamed_fifteenyr_df = fifteenyear_df.rename(columns={\"DATE\":\"Date\", \"MORTGAGE15US\": \"15 Yr. Fixed Rate (%)\"})\n",
    "renamed_fifteenyr_df.head()"
   ]
  },
  {
   "cell_type": "code",
   "execution_count": 96,
   "id": "900cce96",
   "metadata": {},
   "outputs": [],
   "source": [
    "renamed_fifteenyr_df['year']= renamed_fifteenyr_df['Date'].dt.year\n",
    "renamed_fifteenyr_df['month']= renamed_fifteenyr_df['Date'].dt.month\n",
    "renamed_fifteenyr_df['day']= renamed_fifteenyr_df['Date'].dt.day"
   ]
  },
  {
   "cell_type": "code",
   "execution_count": 97,
   "id": "ca985aea",
   "metadata": {},
   "outputs": [
    {
     "data": {
      "text/plain": [
       "<matplotlib.axes._subplots.AxesSubplot at 0x1fa55254188>"
      ]
     },
     "execution_count": 97,
     "metadata": {},
     "output_type": "execute_result"
    },
    {
     "data": {
      "image/png": "[encoded data removed]",
      "text/plain": [
       "<Figure size 576x576 with 1 Axes>"
      ]
     },
     "metadata": {
      "needs_background": "light"
     },
     "output_type": "display_data"
    }
   ],
   "source": [
    "renamed_fifteenyr_df.plot(kind=\"scatter\", x=\"Date\", y=\"15 Yr. Fixed Rate (%)\", grid=True, figsize=(8,8),\n",
    "              title=\"15 Yr. Fixed Rate (%) Over Time\")"
   ]
  },
  {
   "cell_type": "code",
   "execution_count": 101,
   "id": "dc007a0c",
   "metadata": {},
   "outputs": [
    {
     "data": {
      "text/plain": [
       "<Figure size 432x288 with 0 Axes>"
      ]
     },
     "metadata": {},
     "output_type": "display_data"
    }
   ],
   "source": [
    "plt.savefig(\"../Images/15YrRate_Scatter_Plot.png\")"
   ]
  },
  {
   "cell_type": "code",
   "execution_count": null,
   "id": "fa5d93aa",
   "metadata": {},
   "outputs": [],
   "source": []
  }
 ],
 "metadata": {
  "kernelspec": {
   "display_name": "PythonData",
   "language": "python",
   "name": "pythondata"
  },
  "language_info": {
   "codemirror_mode": {
    "name": "ipython",
    "version": 3
   },
   "file_extension": ".py",
   "mimetype": "text/x-python",
   "name": "python",
   "nbconvert_exporter": "python",
   "pygments_lexer": "ipython3",
   "version": "3.7.7"
  }
 },
 "nbformat": 4,
 "nbformat_minor": 5
}
