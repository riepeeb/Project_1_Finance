{
 "cells": [
  {
   "cell_type": "code",
   "execution_count": 1,
   "id": "60314f26",
   "metadata": {},
   "outputs": [],
   "source": [
    "#Setup\n",
    "import matplotlib.pyplot as plt\n",
    "import pandas as pd\n",
    "import numpy as np\n",
    "import time\n",
    "import datetime\n",
    "import scipy.stats as st\n",
    "from scipy.stats import linregress"
   ]
  },
  {
   "cell_type": "code",
   "execution_count": 2,
   "id": "43dabb98",
   "metadata": {},
   "outputs": [
    {
     "data": {
      "text/html": [
       "<div>\n",
       "<style scoped>\n",
       "    .dataframe tbody tr th:only-of-type {\n",
       "        vertical-align: middle;\n",
       "    }\n",
       "\n",
       "    .dataframe tbody tr th {\n",
       "        vertical-align: top;\n",
       "    }\n",
       "\n",
       "    .dataframe thead th {\n",
       "        text-align: right;\n",
       "    }\n",
       "</style>\n",
       "<table border=\"1\" class=\"dataframe\">\n",
       "  <thead>\n",
       "    <tr style=\"text-align: right;\">\n",
       "      <th></th>\n",
       "      <th>DATE</th>\n",
       "      <th>OBMMIFHA30YF</th>\n",
       "    </tr>\n",
       "  </thead>\n",
       "  <tbody>\n",
       "    <tr>\n",
       "      <th>0</th>\n",
       "      <td>2017-10-23</td>\n",
       "      <td>4.244</td>\n",
       "    </tr>\n",
       "    <tr>\n",
       "      <th>1</th>\n",
       "      <td>2017-10-24</td>\n",
       "      <td>4.256</td>\n",
       "    </tr>\n",
       "    <tr>\n",
       "      <th>2</th>\n",
       "      <td>2017-10-25</td>\n",
       "      <td>4.298</td>\n",
       "    </tr>\n",
       "    <tr>\n",
       "      <th>3</th>\n",
       "      <td>2017-10-26</td>\n",
       "      <td>4.288</td>\n",
       "    </tr>\n",
       "    <tr>\n",
       "      <th>4</th>\n",
       "      <td>2017-10-27</td>\n",
       "      <td>4.281</td>\n",
       "    </tr>\n",
       "    <tr>\n",
       "      <th>...</th>\n",
       "      <td>...</td>\n",
       "      <td>...</td>\n",
       "    </tr>\n",
       "    <tr>\n",
       "      <th>1300</th>\n",
       "      <td>2022-10-17</td>\n",
       "      <td>6.772</td>\n",
       "    </tr>\n",
       "    <tr>\n",
       "      <th>1301</th>\n",
       "      <td>2022-10-18</td>\n",
       "      <td>6.776</td>\n",
       "    </tr>\n",
       "    <tr>\n",
       "      <th>1302</th>\n",
       "      <td>2022-10-19</td>\n",
       "      <td>6.788</td>\n",
       "    </tr>\n",
       "    <tr>\n",
       "      <th>1303</th>\n",
       "      <td>2022-10-20</td>\n",
       "      <td>6.893</td>\n",
       "    </tr>\n",
       "    <tr>\n",
       "      <th>1304</th>\n",
       "      <td>2022-10-21</td>\n",
       "      <td>6.936</td>\n",
       "    </tr>\n",
       "  </tbody>\n",
       "</table>\n",
       "<p>1305 rows × 2 columns</p>\n",
       "</div>"
      ],
      "text/plain": [
       "            DATE OBMMIFHA30YF\n",
       "0     2017-10-23        4.244\n",
       "1     2017-10-24        4.256\n",
       "2     2017-10-25        4.298\n",
       "3     2017-10-26        4.288\n",
       "4     2017-10-27        4.281\n",
       "...          ...          ...\n",
       "1300  2022-10-17        6.772\n",
       "1301  2022-10-18        6.776\n",
       "1302  2022-10-19        6.788\n",
       "1303  2022-10-20        6.893\n",
       "1304  2022-10-21        6.936\n",
       "\n",
       "[1305 rows x 2 columns]"
      ]
     },
     "execution_count": 2,
     "metadata": {},
     "output_type": "execute_result"
    }
   ],
   "source": [
    "#setting up DataFrame\n",
    "fixed_mortgage_index = \"../Resources/FRED 30-Year Fixed Mortgage Index from Oct 2017-Present.csv\"\n",
    "fmi = pd.read_csv(fixed_mortgage_index)\n",
    "fmi_df = pd.DataFrame(fmi)\n",
    "fmi_df"
   ]
  },
  {
   "cell_type": "code",
   "execution_count": 3,
   "id": "61e599df",
   "metadata": {},
   "outputs": [
    {
     "data": {
      "text/plain": [
       "DATE            object\n",
       "OBMMIFHA30YF    object\n",
       "dtype: object"
      ]
     },
     "metadata": {},
     "output_type": "display_data"
    }
   ],
   "source": [
    "#Checking Data Types\n",
    "display(fmi_df.dtypes)"
   ]
  },
  {
   "cell_type": "code",
   "execution_count": 5,
   "id": "8ba29833",
   "metadata": {},
   "outputs": [
    {
     "data": {
      "text/plain": [
       "DATE            datetime64[ns]\n",
       "OBMMIFHA30YF           float64\n",
       "dtype: object"
      ]
     },
     "metadata": {},
     "output_type": "display_data"
    }
   ],
   "source": [
    "#Changing the DATE data type to datetime\n",
    "fmi_df['DATE'] = pd.to_datetime(fmi_df['DATE'])\n",
    "display(fmi_df.dtypes)\n",
    "\n",
    "#Changing the Rate data type to float\n",
    "fmi_df['OBMMIFHA30YF'] = pd.to_numeric(fmi_df.OBMMIFHA30YF, errors='coerce')"
   ]
  },
  {
   "cell_type": "code",
   "execution_count": 6,
   "id": "69a1d69c",
   "metadata": {},
   "outputs": [
    {
     "data": {
      "text/plain": [
       "(1174, 2)"
      ]
     },
     "execution_count": 6,
     "metadata": {},
     "output_type": "execute_result"
    }
   ],
   "source": [
    "#Getting a sample from our cleaned data we don't want to keep \n",
    "subset = fmi_df.sample(frac=0.9)\n",
    "#verifying the data we do not want in the sample\n",
    "subset.shape"
   ]
  },
  {
   "cell_type": "code",
   "execution_count": 7,
   "id": "0cfac6b7",
   "metadata": {},
   "outputs": [
    {
     "data": {
      "text/html": [
       "<div>\n",
       "<style scoped>\n",
       "    .dataframe tbody tr th:only-of-type {\n",
       "        vertical-align: middle;\n",
       "    }\n",
       "\n",
       "    .dataframe tbody tr th {\n",
       "        vertical-align: top;\n",
       "    }\n",
       "\n",
       "    .dataframe thead th {\n",
       "        text-align: right;\n",
       "    }\n",
       "</style>\n",
       "<table border=\"1\" class=\"dataframe\">\n",
       "  <thead>\n",
       "    <tr style=\"text-align: right;\">\n",
       "      <th></th>\n",
       "      <th>DATE</th>\n",
       "      <th>OBMMIFHA30YF</th>\n",
       "    </tr>\n",
       "  </thead>\n",
       "  <tbody>\n",
       "    <tr>\n",
       "      <th>348</th>\n",
       "      <td>2019-02-21</td>\n",
       "      <td>4.847</td>\n",
       "    </tr>\n",
       "    <tr>\n",
       "      <th>822</th>\n",
       "      <td>2020-12-16</td>\n",
       "      <td>2.821</td>\n",
       "    </tr>\n",
       "    <tr>\n",
       "      <th>569</th>\n",
       "      <td>2019-12-27</td>\n",
       "      <td>3.939</td>\n",
       "    </tr>\n",
       "    <tr>\n",
       "      <th>1041</th>\n",
       "      <td>2021-10-19</td>\n",
       "      <td>3.323</td>\n",
       "    </tr>\n",
       "    <tr>\n",
       "      <th>507</th>\n",
       "      <td>2019-10-02</td>\n",
       "      <td>3.914</td>\n",
       "    </tr>\n",
       "  </tbody>\n",
       "</table>\n",
       "</div>"
      ],
      "text/plain": [
       "           DATE  OBMMIFHA30YF\n",
       "348  2019-02-21         4.847\n",
       "822  2020-12-16         2.821\n",
       "569  2019-12-27         3.939\n",
       "1041 2021-10-19         3.323\n",
       "507  2019-10-02         3.914"
      ]
     },
     "execution_count": 7,
     "metadata": {},
     "output_type": "execute_result"
    }
   ],
   "source": [
    "#viewing a portion of the sample subset\n",
    "subset.head()"
   ]
  },
  {
   "cell_type": "code",
   "execution_count": 8,
   "id": "251797ff",
   "metadata": {},
   "outputs": [
    {
     "data": {
      "text/html": [
       "<div>\n",
       "<style scoped>\n",
       "    .dataframe tbody tr th:only-of-type {\n",
       "        vertical-align: middle;\n",
       "    }\n",
       "\n",
       "    .dataframe tbody tr th {\n",
       "        vertical-align: top;\n",
       "    }\n",
       "\n",
       "    .dataframe thead th {\n",
       "        text-align: right;\n",
       "    }\n",
       "</style>\n",
       "<table border=\"1\" class=\"dataframe\">\n",
       "  <thead>\n",
       "    <tr style=\"text-align: right;\">\n",
       "      <th></th>\n",
       "      <th>DATE</th>\n",
       "      <th>OBMMIFHA30YF</th>\n",
       "    </tr>\n",
       "  </thead>\n",
       "  <tbody>\n",
       "    <tr>\n",
       "      <th>3</th>\n",
       "      <td>2017-10-26</td>\n",
       "      <td>4.288</td>\n",
       "    </tr>\n",
       "    <tr>\n",
       "      <th>14</th>\n",
       "      <td>2017-11-10</td>\n",
       "      <td>NaN</td>\n",
       "    </tr>\n",
       "    <tr>\n",
       "      <th>29</th>\n",
       "      <td>2017-12-01</td>\n",
       "      <td>4.289</td>\n",
       "    </tr>\n",
       "    <tr>\n",
       "      <th>30</th>\n",
       "      <td>2017-12-04</td>\n",
       "      <td>4.270</td>\n",
       "    </tr>\n",
       "    <tr>\n",
       "      <th>50</th>\n",
       "      <td>2018-01-01</td>\n",
       "      <td>NaN</td>\n",
       "    </tr>\n",
       "    <tr>\n",
       "      <th>...</th>\n",
       "      <td>...</td>\n",
       "      <td>...</td>\n",
       "    </tr>\n",
       "    <tr>\n",
       "      <th>1261</th>\n",
       "      <td>2022-08-23</td>\n",
       "      <td>5.542</td>\n",
       "    </tr>\n",
       "    <tr>\n",
       "      <th>1277</th>\n",
       "      <td>2022-09-14</td>\n",
       "      <td>5.903</td>\n",
       "    </tr>\n",
       "    <tr>\n",
       "      <th>1287</th>\n",
       "      <td>2022-09-28</td>\n",
       "      <td>6.372</td>\n",
       "    </tr>\n",
       "    <tr>\n",
       "      <th>1298</th>\n",
       "      <td>2022-10-13</td>\n",
       "      <td>6.787</td>\n",
       "    </tr>\n",
       "    <tr>\n",
       "      <th>1304</th>\n",
       "      <td>2022-10-21</td>\n",
       "      <td>6.936</td>\n",
       "    </tr>\n",
       "  </tbody>\n",
       "</table>\n",
       "<p>131 rows × 2 columns</p>\n",
       "</div>"
      ],
      "text/plain": [
       "           DATE  OBMMIFHA30YF\n",
       "3    2017-10-26         4.288\n",
       "14   2017-11-10           NaN\n",
       "29   2017-12-01         4.289\n",
       "30   2017-12-04         4.270\n",
       "50   2018-01-01           NaN\n",
       "...         ...           ...\n",
       "1261 2022-08-23         5.542\n",
       "1277 2022-09-14         5.903\n",
       "1287 2022-09-28         6.372\n",
       "1298 2022-10-13         6.787\n",
       "1304 2022-10-21         6.936\n",
       "\n",
       "[131 rows x 2 columns]"
      ]
     },
     "execution_count": 8,
     "metadata": {},
     "output_type": "execute_result"
    }
   ],
   "source": [
    "#Removing data not in our we do not want in our sample\n",
    "cleaned_df = pd.DataFrame(fmi_df.drop(labels=subset.index))\n",
    "cleaned_df"
   ]
  },
  {
   "cell_type": "code",
   "execution_count": 9,
   "id": "c5bdaa5c",
   "metadata": {},
   "outputs": [
    {
     "data": {
      "text/plain": [
       "DATE            datetime64[ns]\n",
       "OBMMIFHA30YF           float64\n",
       "dtype: object"
      ]
     },
     "metadata": {},
     "output_type": "display_data"
    }
   ],
   "source": [
    "#verifying data types\n",
    "display(cleaned_df.dtypes)"
   ]
  },
  {
   "cell_type": "code",
   "execution_count": 10,
   "id": "491cc979",
   "metadata": {
    "scrolled": true
   },
   "outputs": [
    {
     "name": "stdout",
     "output_type": "stream",
     "text": [
      "The Average 30-Year FMI rate of our sample is 4.237330645161291%\n"
     ]
    }
   ],
   "source": [
    "#finding the mean of our sample dataset\n",
    "rate = cleaned_df['OBMMIFHA30YF']\n",
    "mean_numpy = np.mean(rate)\n",
    "print(f\"The Average 30-Year FMI rate of our sample is {mean_numpy}%\")"
   ]
  },
  {
   "cell_type": "code",
   "execution_count": 12,
   "id": "5504dbb2",
   "metadata": {},
   "outputs": [
    {
     "data": {
      "image/png": "[encoded data removed]",
      "text/plain": [
       "<Figure size 432x288 with 1 Axes>"
      ]
     },
     "metadata": {
      "needs_background": "light"
     },
     "output_type": "display_data"
    }
   ],
   "source": [
    "#plotting the cleaned data\n",
    "y = cleaned_df['OBMMIFHA30YF']\n",
    "x = cleaned_df['DATE']\n",
    "plt.scatter(cleaned_df['DATE'], cleaned_df['OBMMIFHA30YF'], marker='o')\n",
    "\n",
    "plt.xticks(rotation = 90)\n",
    "plt.yticks(rotation = 45)\n",
    "plt.yticks(np.arange(2, 8, 0.5))\n",
    "\n",
    "#Formatting Scatter Plot\n",
    "plt.title(\"Rate vs Date\")\n",
    "plt.ylabel(\"30-Year FMI Rate (%)\")\n",
    "plt.xlabel(\"Date\")\n",
    "plt.grid()\n",
    "\n",
    "plt.savefig(\"../Images/30yFMIRatevsDate.png\")\n",
    "plt.show()"
   ]
  },
  {
   "cell_type": "code",
   "execution_count": 13,
   "id": "17bf3ac8",
   "metadata": {},
   "outputs": [
    {
     "name": "stdout",
     "output_type": "stream",
     "text": [
      "The Max 30-Year FMI Rate Pre-Pandemic is 5.288%\n",
      "The Min 30-Year FMI Rate is 2.703%\n",
      "The Max 30-Year FMI Rate is 6.936%\n"
     ]
    }
   ],
   "source": [
    "#Finding the Pre-pandemic High, Pandemic Low, and Post-Pandemic High\n",
    "pre_pan_date = cleaned_df.loc[(cleaned_df['DATE'] >= '2017-11-16')\n",
    "                              & (cleaned_df['DATE'] < '2020,03,01')]\n",
    "max_pre_pan = pre_pan_date['OBMMIFHA30YF'].max()\n",
    "# print(pre_pan_date.head())\n",
    "print(f\"The Max 30-Year FMI Rate Pre-Pandemic is {max_pre_pan}%\")\n",
    "\n",
    "min_rate = cleaned_df['OBMMIFHA30YF'].min()\n",
    "print(f\"The Min 30-Year FMI Rate is {min_rate}%\")\n",
    "\n",
    "max_rate = cleaned_df['OBMMIFHA30YF'].max()\n",
    "print(f\"The Max 30-Year FMI Rate is {max_rate}%\")"
   ]
  }
 ],
 "metadata": {
  "kernelspec": {
   "display_name": "PythonData",
   "language": "python",
   "name": "pythondata"
  },
  "language_info": {
   "codemirror_mode": {
    "name": "ipython",
    "version": 3
   },
   "file_extension": ".py",
   "mimetype": "text/x-python",
   "name": "python",
   "nbconvert_exporter": "python",
   "pygments_lexer": "ipython3",
   "version": "3.9.12"
  }
 },
 "nbformat": 4,
 "nbformat_minor": 5
}
